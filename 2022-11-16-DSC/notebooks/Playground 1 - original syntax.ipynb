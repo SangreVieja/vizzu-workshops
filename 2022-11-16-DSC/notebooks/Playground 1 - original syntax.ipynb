{
 "cells": [
  {
   "cell_type": "markdown",
   "id": "720ff4d6",
   "metadata": {},
   "source": [
    "# ipyvizzu Workshop @ DSC - Playground 1 - simple syntax"
   ]
  },
  {
   "cell_type": "code",
   "execution_count": null,
   "id": "fe36ff3d",
   "metadata": {},
   "outputs": [],
   "source": [
    "#!pip install ipyvizzu"
   ]
  },
  {
   "cell_type": "code",
   "execution_count": null,
   "id": "20420968",
   "metadata": {},
   "outputs": [],
   "source": [
    "import pandas as pd\n",
    "from ipyvizzu import Chart, Data, Config, Style\n",
    "\n",
    "data_frame = pd.read_csv(\"../data/worldpopulation.csv\", dtype={\"Year\": str})\n",
    "data = Data()\n",
    "data.add_data_frame(data_frame)\n",
    "\n",
    "display(data_frame)"
   ]
  },
  {
   "cell_type": "code",
   "execution_count": null,
   "id": "af50b317",
   "metadata": {},
   "outputs": [],
   "source": [
    "chart = Chart(width=\"100%\", height=\"360px\")\n",
    "chart.feature(\"tooltip\", True)\n",
    "\n",
    "chart.animate(data)\n",
    "\n",
    "chart.animate(\n",
    "    Data.filter(\n",
    "        \"record.Continent == 'Africa'\" # \"(record.Continent == 'Africa' || record.Continent == 'Asia') && record.Period == 'past' \"\n",
    "    ),\n",
    "   Config({\n",
    "            \"x\": \"Year\",\n",
    "            \"y\": [\"Medium\",\"Subregion\"],\n",
    "            \"color\": \"Subregion\",\n",
    "            #\"label\": \"Medium\",\n",
    "            #\"size\": \"Medium\",\n",
    "            \"geometry\": \"rectangle\", #circle, line, area\n",
    "            \"title\": \"Population of Africa 1953-2018\",\n",
    "            \"split\": False, # True\n",
    "            \"align\": \"min\", # max, center, stretch\n",
    "            \"coordSystem\": \"cartesian\", #polar\n",
    "        }),\n",
    "            Style({ \"plot\": { \"xAxis\": { \"label\": { \"angle\": 2.0 }}}})\n",
    ")\n"
   ]
  }
 ],
 "metadata": {
  "kernelspec": {
   "display_name": "Python 3 (ipykernel)",
   "language": "python",
   "name": "python3"
  },
  "language_info": {
   "codemirror_mode": {
    "name": "ipython",
    "version": 3
   },
   "file_extension": ".py",
   "mimetype": "text/x-python",
   "name": "python",
   "nbconvert_exporter": "python",
   "pygments_lexer": "ipython3",
   "version": "3.9.12"
  }
 },
 "nbformat": 4,
 "nbformat_minor": 5
}
