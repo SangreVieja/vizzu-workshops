{
 "cells": [
  {
   "cell_type": "markdown",
   "id": "54823069",
   "metadata": {},
   "source": [
    "## ipyvizzu Workshop @ DSC - Playground 2 - preset syntax"
   ]
  },
  {
   "cell_type": "code",
   "execution_count": null,
   "id": "8d6492c8",
   "metadata": {},
   "outputs": [],
   "source": [
    "#!pip install ipyvizzu"
   ]
  },
  {
   "cell_type": "code",
   "execution_count": null,
   "id": "dd5c88be",
   "metadata": {},
   "outputs": [],
   "source": [
    "import pandas as pd\n",
    "from ipyvizzu import Chart, Data, Config, Style\n",
    "\n",
    "data_frame = pd.read_csv(\"../data/worldpopulation.csv\", dtype={\"Year\": str})\n",
    "data = Data()\n",
    "data.add_data_frame(data_frame)\n",
    "\n",
    "display(data_frame)"
   ]
  },
  {
   "cell_type": "code",
   "execution_count": null,
   "id": "34463941",
   "metadata": {},
   "outputs": [],
   "source": [
    "chart = Chart(width=\"100%\", height=\"360px\")\n",
    "chart.feature(\"tooltip\", True)\n",
    "\n",
    "chart.animate(data)\n",
    "\n",
    "chart.animate(\n",
    "    Data.filter(\n",
    "        \"record.Continent == 'Africa'\" # \"(record.Continent == 'Africa' || record.Continent == 'Asia') && record.Period == 'past' \"\n",
    "    ),\n",
    "   Config.stackedArea({ #stackedColumn (stackedBy), groupedColumn (groupedBy), percentageArea (stackedBy), stream (stackedBy), violin (splittedBy)\n",
    "            \"x\": \"Year\",\n",
    "            \"y\": \"Medium\",\n",
    "            \"stackedBy\": \"Subregion\",\n",
    "            \"title\": \"Population of Africa 1953-2018\",\n",
    "        }),\n",
    "    Style({ \"plot\": { \"xAxis\": { \"label\": { \"angle\": 2.0 }}}})\n",
    ")"
   ]
  }
 ],
 "metadata": {
  "kernelspec": {
   "display_name": "Python 3 (ipykernel)",
   "language": "python",
   "name": "python3"
  },
  "language_info": {
   "codemirror_mode": {
    "name": "ipython",
    "version": 3
   },
   "file_extension": ".py",
   "mimetype": "text/x-python",
   "name": "python",
   "nbconvert_exporter": "python",
   "pygments_lexer": "ipython3",
   "version": "3.9.12"
  }
 },
 "nbformat": 4,
 "nbformat_minor": 5
}
