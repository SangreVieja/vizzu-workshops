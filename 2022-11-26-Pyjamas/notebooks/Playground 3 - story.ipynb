{
 "cells": [
  {
   "cell_type": "markdown",
   "id": "54823069",
   "metadata": {},
   "source": [
    "### ipyvizzu Workshop Playground 3 - story"
   ]
  },
  {
   "cell_type": "code",
   "execution_count": null,
   "id": "8d6492c8",
   "metadata": {},
   "outputs": [],
   "source": [
    "#!pip install ipyvizzu\n",
    "#!pip install ipyvizzu-story"
   ]
  },
  {
   "cell_type": "code",
   "execution_count": null,
   "id": "dd5c88be",
   "metadata": {},
   "outputs": [],
   "source": [
    "import pandas as pd\n",
    "from ipyvizzu import Chart, Data, Config, Style\n",
    "from ipyvizzustory import Story, Slide, Step\n",
    "\n",
    "data_frame = pd.read_csv(\"../data/worldpopulation.csv\", dtype={\"Year\": str})\n",
    "data = Data()\n",
    "data.add_data_frame(data_frame)\n",
    "\n",
    "display(data_frame)"
   ]
  },
  {
   "cell_type": "code",
   "execution_count": null,
   "id": "34463941",
   "metadata": {
    "scrolled": true
   },
   "outputs": [],
   "source": [
    "story = Story(data=data)\n",
    "story.set_feature(\"tooltip\", True)\n",
    "story.set_size(\"100%\", \"400px\")\n",
    "\n",
    "slide1 = Slide(\n",
    "    Step(\n",
    "    Data.filter(\n",
    "        \"record.Continent == 'Africa'\" # \"(record.Continent == 'Africa' || record.Continent == 'Asia') && record.Period == 'past' \"\n",
    "    ),\n",
    "        Config.stackedArea({ #stackedColumn (stackedBy), groupedColumn (groupedBy), percentageArea (stackedBy), stream (stackedBy), violin (splittedBy)\n",
    "                \"x\": \"Year\",\n",
    "                \"y\": \"Medium\",\n",
    "                \"stackedBy\": \"Subregion\",\n",
    "                \"title\": \"Population of Africa 1953-2018\",\n",
    "            }),\n",
    "        Style({ \"plot\": { \"xAxis\": { \"label\": { \"angle\": 2.0 }}}})\n",
    "))\n",
    "\n",
    "story.add_slide(slide1)\n",
    "\n",
    "slide2 = Slide(\n",
    "    Step(\n",
    "        Config.percentageArea({ #stackedColumn (stackedBy), groupedColumn (groupedBy), percentageArea (stackedBy), stream (stackedBy), violin (splittedBy)\n",
    "                \"x\": \"Year\",\n",
    "                \"y\": \"Medium\",\n",
    "                \"stackedBy\": \"Subregion\",\n",
    "            }),\n",
    "))\n",
    "story.add_slide(slide2)\n",
    "\n",
    "slide3 = Slide()\n",
    "\n",
    "slide3.add_step(\n",
    "    Step(\n",
    "        Config.stream({ #stackedColumn (stackedBy), groupedColumn (groupedBy), percentageArea (stackedBy), stream (stackedBy), violin (splittedBy)\n",
    "                \"x\": \"Year\",\n",
    "                \"y\": \"Medium\",\n",
    "                \"stackedBy\": \"Subregion\",\n",
    "            }),\n",
    "))\n",
    "\n",
    "story.add_slide(slide3)\n",
    "story.play()"
   ]
  },
  {
   "cell_type": "code",
   "execution_count": null,
   "id": "3ae21ee3",
   "metadata": {},
   "outputs": [],
   "source": [
    "# If you want to save the story as an interactive HTML\n",
    "# (containing only the output of the previous cell),\n",
    "# use the following command:\n",
    "story.export_to_html(filename=\"africa.html\")"
   ]
  }
 ],
 "metadata": {
  "kernelspec": {
   "display_name": "Python 3 (ipykernel)",
   "language": "python",
   "name": "python3"
  },
  "language_info": {
   "codemirror_mode": {
    "name": "ipython",
    "version": 3
   },
   "file_extension": ".py",
   "mimetype": "text/x-python",
   "name": "python",
   "nbconvert_exporter": "python",
   "pygments_lexer": "ipython3",
   "version": "3.9.12"
  }
 },
 "nbformat": 4,
 "nbformat_minor": 5
}
