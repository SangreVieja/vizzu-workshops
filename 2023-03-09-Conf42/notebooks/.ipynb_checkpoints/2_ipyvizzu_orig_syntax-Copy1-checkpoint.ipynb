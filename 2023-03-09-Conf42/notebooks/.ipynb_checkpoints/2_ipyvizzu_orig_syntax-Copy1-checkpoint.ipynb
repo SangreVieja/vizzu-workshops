{
 "cells": [
  {
   "cell_type": "markdown",
   "metadata": {},
   "source": [
    "# ipyvizzu - 1st Example - Results of a LinkedIn Poll"
   ]
  },
  {
   "cell_type": "code",
   "execution_count": 1,
   "metadata": {},
   "outputs": [],
   "source": [
    "#!pip install ipyvizzu"
   ]
  },
  {
   "cell_type": "code",
   "execution_count": 2,
   "metadata": {
    "scrolled": true
   },
   "outputs": [],
   "source": [
    "import pandas as pd\n",
    "from ipyvizzu import Chart, Data, Config, Style\n",
    "\n",
    "data_frame = pd.read_csv(\"https://raw.githubusercontent.com/vizzuhq/vizzu-workshops/main/2023-02-10-Quansight/data/LinkedIn_Poll.csv\")\n",
    "data = Data()\n",
    "data.add_data_frame(data_frame)\n",
    "\n",
    "#display(data_frame)"
   ]
  },
  {
   "cell_type": "code",
   "execution_count": 6,
   "metadata": {},
   "outputs": [
    {
     "data": {
      "application/javascript": [
       "if (window.IpyVizzu) { window.IpyVizzu.clearInhibitScroll(element); }"
      ]
     },
     "metadata": {},
     "output_type": "display_data"
    },
    {
     "data": {
      "application/javascript": [
       "if (!window.IpyVizzu) {\n",
       "    class IpyVizzu \n",
       "    {\n",
       "        constructor()\n",
       "        {\n",
       "            IpyVizzu.inhibitScroll = false;\n",
       "            IpyVizzu.nbconvert = false;\n",
       "            document.addEventListener('wheel', (evt) => { IpyVizzu.inhibitScroll = true }, true);\n",
       "            document.addEventListener('keydown', (evt) => { IpyVizzu.inhibitScroll = true }, true);\n",
       "            document.addEventListener('touchstart', (evt) => { IpyVizzu.inhibitScroll = true }, true);\n",
       "\n",
       "            this.elements = {};\n",
       "            this.charts = {};\n",
       "            \n",
       "            this.snapshots = {};\n",
       "            this.displays = {};\n",
       "\n",
       "            this.events = {};\n",
       "            this.loaded = {};\n",
       "            this.libs = {};\n",
       "        }\n",
       "\n",
       "        static clearInhibitScroll(element)\n",
       "        {\n",
       "            if (IpyVizzu.nbconvert) IpyVizzu._hide(element);\n",
       "            IpyVizzu.inhibitScroll = false;\n",
       "        }\n",
       "\n",
       "        createChart(element, chartId, vizzulib, divWidth, divHeight) {\n",
       "            this.elements[chartId] = document.createElement(\"div\");\n",
       "            this.elements[chartId].style.cssText = `width: ${divWidth}; height: ${divHeight};`;\n",
       "            this.loaded[chartId] = import(vizzulib);\n",
       "            this.charts[chartId] = this.loaded[chartId].then(Vizzu => {\n",
       "                this.libs[chartId] = Vizzu.default;\n",
       "                return new Vizzu.default(this.elements[chartId]).initializing\n",
       "            });\n",
       "            this._moveHere(chartId, element);\n",
       "        }\n",
       "\n",
       "        animate(element, chartId, displayTarget, scrollEnabled, getChartTarget, chartAnimOpts)\n",
       "        {\n",
       "            if (IpyVizzu.nbconvert) IpyVizzu._hide(element);\n",
       "            if (displayTarget === 'end') this._moveHere(chartId, element);\n",
       "            this.charts[chartId] = this.charts[chartId].then(chart => {\n",
       "                if (displayTarget === 'actual') this._moveHere(chartId, element);\n",
       "                this._scroll(chartId, scrollEnabled);\n",
       "                let chartTarget = getChartTarget(this.libs[chartId]);\n",
       "                if (typeof chartTarget === 'string') chartTarget = this.snapshots[chartTarget];\n",
       "                return chart.animate(chartTarget, chartAnimOpts);\n",
       "            });\n",
       "        }\n",
       "\n",
       "        store(element, chartId, id)\n",
       "        {\n",
       "            if (IpyVizzu.nbconvert) IpyVizzu._hide(element);\n",
       "            this.charts[chartId] = this.charts[chartId].then(chart => {\n",
       "                this.snapshots[id] = chart.store();\n",
       "                return chart;\n",
       "            });\n",
       "        }\n",
       "\n",
       "        feature(element, chartId, name, enabled)\n",
       "        {\n",
       "            if (IpyVizzu.nbconvert) IpyVizzu._hide(element);\n",
       "            this.charts[chartId] = this.charts[chartId].then(chart => {\n",
       "                chart.feature(name, enabled);\n",
       "                return chart;\n",
       "            });\n",
       "        }\n",
       "\n",
       "        setEvent(element, chartId, id, event, handler)\n",
       "        {\n",
       "            if (IpyVizzu.nbconvert) IpyVizzu._hide(element);\n",
       "            this.charts[chartId] = this.charts[chartId].then(chart => {\n",
       "                this.events[id] = handler;\n",
       "                chart.on(event, this.events[id]);\n",
       "                return chart;\n",
       "            });\n",
       "        }\n",
       "\n",
       "        clearEvent(element, chartId, id, event)\n",
       "        {\n",
       "            if (IpyVizzu.nbconvert) IpyVizzu._hide(element);\n",
       "            this.charts[chartId] = this.charts[chartId].then(chart => {\n",
       "                chart.off(event, this.events[id]);\n",
       "                return chart;\n",
       "            });\n",
       "        }\n",
       "\n",
       "        log(element, chartId, chartProperty)\n",
       "        {\n",
       "            if (IpyVizzu.nbconvert) IpyVizzu._hide(element);\n",
       "            this.charts[chartId] = this.charts[chartId].then(chart => {\n",
       "                console.log(chart[chartProperty])\n",
       "                return chart;\n",
       "            });\n",
       "        }\n",
       "\n",
       "        _moveHere(chartId, element)\n",
       "        {\n",
       "            if (IpyVizzu.nbconvert) IpyVizzu._display(this.elements[chartId], element);\n",
       "            element.append(this.elements[chartId]);\n",
       "        }\n",
       "\n",
       "        _scroll(chartId, enabled)\n",
       "        {\n",
       "            if (!IpyVizzu.inhibitScroll && enabled) {\n",
       "                this.elements[chartId].scrollIntoView({ behavior: \"auto\", block: \"center\" });\n",
       "            }\n",
       "        }\n",
       "\n",
       "        static _hide(element) {\n",
       "            document.getElementById(element.selector.substring(1)).parentNode.style.display = 'none';\n",
       "        }\n",
       "\n",
       "        static _display(prevElement, element) {\n",
       "            if (prevElement.parentNode) {\n",
       "                prevElement.parentNode.style.display = \"none\";\n",
       "            }\n",
       "            document.getElementById(element.selector.substring(1)).parentNode.style.display = 'flex';\n",
       "            document.getElementById(element.selector.substring(1)).parentNode.style.margin = 'auto';\n",
       "        }\n",
       "    }\n",
       "\n",
       "    window.IpyVizzu = IpyVizzu;\n",
       "    window.ipyvizzu = new window.IpyVizzu();\n",
       "}"
      ]
     },
     "metadata": {},
     "output_type": "display_data"
    },
    {
     "data": {
      "application/javascript": [
       "window.ipyvizzu.createChart(element, '676078c', 'https://cdn.jsdelivr.net/npm/vizzu@~0.6.0/dist/vizzu.min.js', '100%', '360px');"
      ]
     },
     "metadata": {},
     "output_type": "display_data"
    },
    {
     "data": {
      "application/javascript": [
       "window.ipyvizzu.animate(element, '676078c', 'end', false, lib => { return {\"data\": {\"series\": [{\"name\": \"Group name\", \"type\": \"dimension\", \"values\": [\"Data Analytics, Data Science, Business Analytics...\", \"Python Developers Community (moderated)\", \"Data Scientist, Data Analyst and Data Engineer\", \"Artificial Intelligence, Digital Transformation...\", \"AI & ML  - Analytics , Data Science...\", \"Data Analytics, Data Science, Business Analytics...\", \"Python Developers Community (moderated)\", \"Data Scientist, Data Analyst and Data Engineer\", \"Artificial Intelligence, Digital Transformation...\", \"AI & ML  - Analytics , Data Science...\", \"Data Analytics, Data Science, Business Analytics...\", \"Python Developers Community (moderated)\", \"Data Scientist, Data Analyst and Data Engineer\", \"Artificial Intelligence, Digital Transformation...\", \"AI & ML  - Analytics , Data Science...\", \"Data Analytics, Data Science, Business Analytics...\", \"Python Developers Community (moderated)\", \"Data Scientist, Data Analyst and Data Engineer\", \"Artificial Intelligence, Digital Transformation...\", \"AI & ML  - Analytics , Data Science...\"]}, {\"name\": \"Group\", \"type\": \"dimension\", \"values\": [\"Group 5\", \"Group 4\", \"Group 3\", \"Group 2\", \"Group 1\", \"Group 5\", \"Group 4\", \"Group 3\", \"Group 2\", \"Group 1\", \"Group 5\", \"Group 4\", \"Group 3\", \"Group 2\", \"Group 1\", \"Group 5\", \"Group 4\", \"Group 3\", \"Group 2\", \"Group 1\"]}, {\"name\": \"Answer\", \"type\": \"dimension\", \"values\": [\"2 or more per month\", \"2 or more per month\", \"2 or more per month\", \"2 or more per month\", \"2 or more per month\", \"1 per month\", \"1 per month\", \"1 per month\", \"1 per month\", \"1 per month\", \"1-2 per quarter\", \"1-2 per quarter\", \"1-2 per quarter\", \"1-2 per quarter\", \"1-2 per quarter\", \"Never\", \"Never\", \"Never\", \"Never\", \"Never\"]}, {\"name\": \"Vote[%]\", \"type\": \"measure\", \"values\": [39.0, 44.0, 47.0, 55.0, 56.0, 31.0, 24.0, 20.0, 18.0, 12.0, 14.0, 13.0, 16.0, 18.0, 17.0, 16.0, 19.0, 17.0, 9.0, 15.0]}, {\"name\": \"Vote count\", \"type\": \"measure\", \"values\": [27.0, 191.0, 66.0, 6.0, 29.0, 22.0, 104.0, 28.0, 2.0, 6.0, 10.0, 56.0, 23.0, 2.0, 9.0, 11.0, 82.0, 24.0, 1.0, 8.0]}, {\"name\": \"GroupVote count\", \"type\": \"measure\", \"values\": [70.0, 433.0, 141.0, 11.0, 52.0, 70.0, 433.0, 141.0, 11.0, 52.0, 70.0, 433.0, 141.0, 11.0, 52.0, 70.0, 433.0, 141.0, 11.0, 52.0]}, {\"name\": \"Total[%]\", \"type\": \"measure\", \"values\": [3.8, 27.0, 9.3, 0.8, 4.1, 3.1, 14.7, 4.0, 0.3, 0.8, 1.4, 7.9, 3.3, 0.3, 1.3, 1.6, 11.6, 3.4, 0.1, 1.1]}]}} }, undefined);"
      ]
     },
     "metadata": {},
     "output_type": "display_data"
    },
    {
     "data": {
      "application/javascript": [
       "window.ipyvizzu.animate(element, '676078c', 'end', false, lib => { return {\"data\": {\"filter\": record => { return (record.Group == 'Group 1') }}, \"config\": {\"x\": [\"Vote[%]\", \"Answer\"], \"y\": \"Group\", \"color\": \"Answer\", \"label\": \"Vote[%]\", \"title\": \"How often do you present your findings?\"}, \"style\": {\"legend\": {\"width\": \"100%\"}}} }, undefined);"
      ]
     },
     "metadata": {},
     "output_type": "display_data"
    }
   ],
   "source": [
    "chart = Chart(width=\"100%\", height=\"360px\", display= \"end\")\n",
    "\n",
    "chart.animate(data)\n",
    "\n",
    "chart.animate(\n",
    "    Data.filter(\n",
    "        \"record.Group == 'Group 1'\"\n",
    "    ),\n",
    "   Config({\n",
    "            \"x\": [\"Vote[%]\",\"Answer\"],\n",
    "            \"y\": \"Group\",\n",
    "            \"color\": \"Answer\",\n",
    "            \"label\": \"Vote[%]\",\n",
    "            \"title\": \"How often do you present your findings?\"\n",
    "        }),\n",
    "    Style({\n",
    "        'legend' : {'width' : '100%'},\n",
    "    })\n",
    ")"
   ]
  },
  {
   "cell_type": "code",
   "execution_count": 7,
   "metadata": {},
   "outputs": [
    {
     "data": {
      "application/javascript": [
       "if (window.IpyVizzu) { window.IpyVizzu.clearInhibitScroll(element); }"
      ]
     },
     "metadata": {},
     "output_type": "display_data"
    },
    {
     "data": {
      "application/javascript": [
       "if (window.IpyVizzu) { window.IpyVizzu.clearInhibitScroll(element); }"
      ]
     },
     "metadata": {},
     "output_type": "display_data"
    },
    {
     "data": {
      "application/javascript": [
       "window.ipyvizzu.animate(element, '676078c', 'end', false, lib => { return {\"data\": {\"filter\": null}} }, undefined);"
      ]
     },
     "metadata": {},
     "output_type": "display_data"
    }
   ],
   "source": [
    "chart.animate(\n",
    "    Data.filter(None),\n",
    ")"
   ]
  },
  {
   "cell_type": "code",
   "execution_count": 8,
   "metadata": {},
   "outputs": [
    {
     "data": {
      "application/javascript": [
       "if (window.IpyVizzu) { window.IpyVizzu.clearInhibitScroll(element); }"
      ]
     },
     "metadata": {},
     "output_type": "display_data"
    },
    {
     "data": {
      "application/javascript": [
       "if (window.IpyVizzu) { window.IpyVizzu.clearInhibitScroll(element); }"
      ]
     },
     "metadata": {},
     "output_type": "display_data"
    },
    {
     "data": {
      "application/javascript": [
       "window.ipyvizzu.animate(element, '676078c', 'end', false, lib => { return {\"config\": {\"split\": true, \"title\": \"2 or more is the most popular answer in every group\"}, \"style\": {\"title\": {\"fontSize\": \"1.8em\"}}} }, undefined);"
      ]
     },
     "metadata": {},
     "output_type": "display_data"
    }
   ],
   "source": [
    "chart.animate(\n",
    "    Config({\n",
    "        \"split\": True, \n",
    "        \"title\": \"2 or more is the most popular answer in every group\"\n",
    "    }),\n",
    "    Style({\n",
    "       'title' : {'fontSize' : '1.8em'},\n",
    "    })\n",
    ")"
   ]
  }
 ],
 "metadata": {
  "kernelspec": {
   "display_name": "Python 3 (ipykernel)",
   "language": "python",
   "name": "python3"
  },
  "language_info": {
   "codemirror_mode": {
    "name": "ipython",
    "version": 3
   },
   "file_extension": ".py",
   "mimetype": "text/x-python",
   "name": "python",
   "nbconvert_exporter": "python",
   "pygments_lexer": "ipython3",
   "version": "3.9.12"
  },
  "title": "ipyvizzu - Story"
 },
 "nbformat": 4,
 "nbformat_minor": 2
}
