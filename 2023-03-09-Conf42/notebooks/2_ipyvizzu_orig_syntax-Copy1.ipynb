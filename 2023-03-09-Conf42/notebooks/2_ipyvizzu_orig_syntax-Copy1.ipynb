{
 "cells": [
  {
   "cell_type": "markdown",
   "metadata": {},
   "source": [
    "# ipyvizzu - 1st Example - Results of a LinkedIn Poll"
   ]
  },
  {
   "cell_type": "code",
   "execution_count": null,
   "metadata": {},
   "outputs": [],
   "source": [
    "#!pip install ipyvizzu"
   ]
  },
  {
   "cell_type": "code",
   "execution_count": 1,
   "metadata": {
    "scrolled": true
   },
   "outputs": [],
   "source": [
    "import pandas as pd\n",
    "from ipyvizzu import Chart, Data, Config, Style\n",
    "\n",
    "data_frame = pd.read_csv(\"https://raw.githubusercontent.com/vizzuhq/vizzu-workshops/main/2023-02-10-Quansight/data/LinkedIn_Poll.csv\")\n",
    "data = Data()\n",
    "data.add_data_frame(data_frame)\n",
    "\n",
    "display(data_frame)"
   ]
  },
  {
   "cell_type": "code",
   "execution_count": null,
   "metadata": {},
   "outputs": [],
   "source": [
    "chart = Chart(width=\"100%\", height=\"360px\", display= \"end\")\n",
    "\n",
    "chart.animate(data)\n",
    "\n",
    "chart.animate(\n",
    "    Data.filter(\n",
    "        \"record.Group == 'Group 1'\"\n",
    "    ),\n",
    "   Config({\n",
    "            \"x\": [\"Vote[%]\",\"Answer\"],\n",
    "            \"y\": \"Group\",\n",
    "            \"color\": \"Answer\",\n",
    "            \"label\": \"Vote[%]\",\n",
    "            \"title\": \"How often do you present your findings?\"\n",
    "        }),\n",
    "    Style({\n",
    "        'legend' : {'width' : '100%'},\n",
    "    })\n",
    ")"
   ]
  },
  {
   "cell_type": "code",
   "execution_count": null,
   "metadata": {},
   "outputs": [],
   "source": [
    "chart.animate(\n",
    "    Data.filter(None),\n",
    ")"
   ]
  },
  {
   "cell_type": "code",
   "execution_count": null,
   "metadata": {},
   "outputs": [],
   "source": [
    "chart.animate(\n",
    "    Config({\n",
    "        \"split\": True, \n",
    "        \"title\": \"2 or more is the most popular answer in every group\"\n",
    "    }),\n",
    "    Style({\n",
    "       'title' : {'fontSize' : '1.8em'},\n",
    "    })\n",
    ")"
   ]
  }
 ],
 "metadata": {
  "kernelspec": {
   "display_name": "Python 3 (ipykernel)",
   "language": "python",
   "name": "python3"
  },
  "language_info": {
   "codemirror_mode": {
    "name": "ipython",
    "version": 3
   },
   "file_extension": ".py",
   "mimetype": "text/x-python",
   "name": "python",
   "nbconvert_exporter": "python",
   "pygments_lexer": "ipython3",
   "version": "3.9.12"
  },
  "title": "ipyvizzu - Story"
 },
 "nbformat": 4,
 "nbformat_minor": 2
}
