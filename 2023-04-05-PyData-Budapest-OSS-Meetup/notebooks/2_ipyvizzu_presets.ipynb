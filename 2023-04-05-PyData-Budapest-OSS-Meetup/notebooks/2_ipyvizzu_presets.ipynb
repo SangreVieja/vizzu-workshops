{
 "cells": [
  {
   "cell_type": "markdown",
   "metadata": {},
   "source": [
    "# ipyvizzu Intro - Second Example\n",
    "\n",
    "## Using [preset charts](https://ipyvizzu.vizzuhq.com/0.14/examples/presets/)\n",
    "\n",
    "## Data: The revenue of different music formats in the USA between 1973 - 2020"
   ]
  },
  {
   "cell_type": "code",
   "execution_count": 1,
   "metadata": {
    "scrolled": true
   },
   "outputs": [
    {
     "data": {
      "text/html": [
       "<div>\n",
       "<style scoped>\n",
       "    .dataframe tbody tr th:only-of-type {\n",
       "        vertical-align: middle;\n",
       "    }\n",
       "\n",
       "    .dataframe tbody tr th {\n",
       "        vertical-align: top;\n",
       "    }\n",
       "\n",
       "    .dataframe thead th {\n",
       "        text-align: right;\n",
       "    }\n",
       "</style>\n",
       "<table border=\"1\" class=\"dataframe\">\n",
       "  <thead>\n",
       "    <tr style=\"text-align: right;\">\n",
       "      <th></th>\n",
       "      <th>Year</th>\n",
       "      <th>Format</th>\n",
       "      <th>Revenue[$]</th>\n",
       "    </tr>\n",
       "  </thead>\n",
       "  <tbody>\n",
       "    <tr>\n",
       "      <th>0</th>\n",
       "      <td>1973</td>\n",
       "      <td>DVD</td>\n",
       "      <td>0</td>\n",
       "    </tr>\n",
       "    <tr>\n",
       "      <th>1</th>\n",
       "      <td>1973</td>\n",
       "      <td>Other</td>\n",
       "      <td>0</td>\n",
       "    </tr>\n",
       "    <tr>\n",
       "      <th>2</th>\n",
       "      <td>1973</td>\n",
       "      <td>Tape</td>\n",
       "      <td>2941000000</td>\n",
       "    </tr>\n",
       "    <tr>\n",
       "      <th>3</th>\n",
       "      <td>1973</td>\n",
       "      <td>Download</td>\n",
       "      <td>0</td>\n",
       "    </tr>\n",
       "    <tr>\n",
       "      <th>4</th>\n",
       "      <td>1973</td>\n",
       "      <td>Streaming</td>\n",
       "      <td>0</td>\n",
       "    </tr>\n",
       "    <tr>\n",
       "      <th>...</th>\n",
       "      <td>...</td>\n",
       "      <td>...</td>\n",
       "      <td>...</td>\n",
       "    </tr>\n",
       "    <tr>\n",
       "      <th>379</th>\n",
       "      <td>2020</td>\n",
       "      <td>Download</td>\n",
       "      <td>653000000</td>\n",
       "    </tr>\n",
       "    <tr>\n",
       "      <th>380</th>\n",
       "      <td>2020</td>\n",
       "      <td>Streaming</td>\n",
       "      <td>10075000000</td>\n",
       "    </tr>\n",
       "    <tr>\n",
       "      <th>381</th>\n",
       "      <td>2020</td>\n",
       "      <td>Cassette</td>\n",
       "      <td>0</td>\n",
       "    </tr>\n",
       "    <tr>\n",
       "      <th>382</th>\n",
       "      <td>2020</td>\n",
       "      <td>Vinyl</td>\n",
       "      <td>626000000</td>\n",
       "    </tr>\n",
       "    <tr>\n",
       "      <th>383</th>\n",
       "      <td>2020</td>\n",
       "      <td>CD</td>\n",
       "      <td>484000000</td>\n",
       "    </tr>\n",
       "  </tbody>\n",
       "</table>\n",
       "<p>384 rows × 3 columns</p>\n",
       "</div>"
      ],
      "text/plain": [
       "     Year     Format   Revenue[$]\n",
       "0    1973        DVD            0\n",
       "1    1973      Other            0\n",
       "2    1973       Tape   2941000000\n",
       "3    1973   Download            0\n",
       "4    1973  Streaming            0\n",
       "..    ...        ...          ...\n",
       "379  2020   Download    653000000\n",
       "380  2020  Streaming  10075000000\n",
       "381  2020   Cassette            0\n",
       "382  2020      Vinyl    626000000\n",
       "383  2020         CD    484000000\n",
       "\n",
       "[384 rows x 3 columns]"
      ]
     },
     "metadata": {},
     "output_type": "display_data"
    }
   ],
   "source": [
    "import pandas as pd\n",
    "from ipyvizzu import Chart, Data, Config, Style\n",
    "\n",
    "data_frame = pd.read_csv(\"https://raw.githubusercontent.com/vizzuhq/vizzu-workshops/main/2023-03-07-PyData-London/data/music.csv\", \n",
    "                         dtype={\"Year\": str}\n",
    "                        )\n",
    "data = Data()\n",
    "data.add_data_frame(data_frame)\n",
    "\n",
    "display(data_frame)"
   ]
  },
  {
   "cell_type": "code",
   "execution_count": null,
   "metadata": {
    "scrolled": false
   },
   "outputs": [],
   "source": [
    "chart = Chart(width=\"100%\", height=\"360px\")\n",
    "\n",
    "chart.animate(data)\n",
    "\n",
    "chart.animate(\n",
    "   Config.bar(\n",
    "        {\n",
    "            \"x\": \"Revenue[$]\",\n",
    "            \"y\": \"Format\",\n",
    "            \"title\": \"Revenue by Music Format 1973-2020\",\n",
    "        }\n",
    "    )\n",
    ")"
   ]
  },
  {
   "cell_type": "code",
   "execution_count": null,
   "metadata": {},
   "outputs": [],
   "source": [
    "chart.animate(\n",
    "   Config.groupedBar(\n",
    "        {\n",
    "            \"x\": \"Revenue[$]\",\n",
    "            \"y\": \"Format\",\n",
    "            \"groupedBy\": \"Format\",\n",
    "        }\n",
    "    )\n",
    ")"
   ]
  },
  {
   "cell_type": "code",
   "execution_count": null,
   "metadata": {},
   "outputs": [],
   "source": [
    " chart.animate(\n",
    "     Style({\n",
    "        \"title\": {\"fontSize\": \"2.5em\"},\n",
    "        \"plot\": {\n",
    "            \"marker\": { \n",
    "                \"colorPalette\": \"#b74c20FF #c47f58FF #1c9761FF #ea4549FF #875792FF #3562b6FF #ee7c34FF #efae3aFF\",\n",
    "                'label' :{ \n",
    "                    'numberFormat' : 'prefixed',\n",
    "                    'maxFractionDigits' : '1',\n",
    "                    'numberScale':'shortScaleSymbolUS'\n",
    "                }\n",
    "            },\n",
    "            \"xAxis\": { \"label\": { 'numberScale':'shortScaleSymbolUS'}},\n",
    "            \"yAxis\": { \"label\": { 'numberScale':'shortScaleSymbolUS'}}  \n",
    "        }\n",
    "    })\n",
    " )"
   ]
  },
  {
   "cell_type": "code",
   "execution_count": null,
   "metadata": {},
   "outputs": [],
   "source": [
    "chart.animate(\n",
    "    Config.bubble(\n",
    "        {\n",
    "            \"size\": \"Revenue[$]\",\n",
    "            \"color\": \"Format\",\n",
    "        }\n",
    "    )\n",
    ")"
   ]
  },
  {
   "cell_type": "code",
   "execution_count": null,
   "metadata": {},
   "outputs": [],
   "source": [
    "chart.animate(\n",
    "    Config.stackedBubble(\n",
    "        {\n",
    "            \"size\": \"Revenue[$]\",\n",
    "            \"color\": \"Format\",\n",
    "            \"stackedBy\": \"Year\"\n",
    "        }\n",
    "    )\n",
    ")"
   ]
  },
  {
   "cell_type": "code",
   "execution_count": null,
   "metadata": {
    "scrolled": false
   },
   "outputs": [],
   "source": [
    "\n",
    "chart.animate(\n",
    "    Config.splittedColumn(\n",
    "        {\n",
    "            \"x\": \"Year\",\n",
    "            \"y\": \"Revenue[$]\",\n",
    "            \"splittedBy\": \"Format\",\n",
    "            \"title\": \"Splitted Column Chart\",\n",
    "        }),\n",
    "       Style({ \"plot\": { \n",
    "            \"xAxis\": { \"label\": { \"fontSize\": 9, \"angle\": 2.0 }},\n",
    "            'marker' :{ 'label' :{ 'filter' : 'color(#00000000)'}}\n",
    "        }})\n",
    "\n",
    ")"
   ]
  },
  {
   "cell_type": "code",
   "execution_count": null,
   "metadata": {},
   "outputs": [],
   "source": [
    "#Set a handler that prevents showing the year values that are not divisible by 5\n",
    "handler = \"\"\"\n",
    "let Year = parseFloat(event.data.text);\n",
    "if (!isNaN(Year) && Year > 1950 && Year < 2020 && Year % 5 !== 0) {\n",
    "    event.preventDefault();\n",
    "}\n",
    "\"\"\"\n",
    "#Add handler to the plot-axis-label-draw event so that it takes effect.\n",
    "chart.on(\"plot-axis-label-draw\", handler)"
   ]
  },
  {
   "cell_type": "code",
   "execution_count": null,
   "metadata": {},
   "outputs": [],
   "source": [
    "chart.animate(\n",
    "    Config.stream(\n",
    "            {\n",
    "                \"x\": \"Year\",\n",
    "                \"y\": \"Revenue[$]\",\n",
    "                \"stackedBy\": \"Format\",\n",
    "                \"title\": \"Revenue by Music Format 1973-2020\",\n",
    "            }\n",
    "        )\n",
    ")"
   ]
  },
  {
   "cell_type": "code",
   "execution_count": null,
   "metadata": {},
   "outputs": [],
   "source": [
    "chart.animate(\n",
    "    Config(\n",
    "        {\n",
    "            \"split\": True\n",
    "        }\n",
    "    )\n",
    ")"
   ]
  },
  {
   "cell_type": "code",
   "execution_count": null,
   "metadata": {},
   "outputs": [],
   "source": [
    "chart.animate(\n",
    "    Data.filter(\n",
    "        \"record.Format == 'Vinyl' || record.Format == 'Streaming'\"\n",
    "    ),\n",
    "    Config(\n",
    "        {\n",
    "            \"title\": \"Revenue of Vinyl & Streaming 1973-2020\"\n",
    "        }\n",
    "    )\n",
    ")"
   ]
  },
  {
   "cell_type": "code",
   "execution_count": null,
   "metadata": {},
   "outputs": [],
   "source": [
    "chart.animate(\n",
    "    Data.filter(None),\n",
    "    Config(\n",
    "        {\n",
    "            \"title\": \"Revenue by Music Format 1973-2020\", \n",
    "            \"split\": False\n",
    "        }\n",
    "    )\n",
    ")"
   ]
  },
  {
   "cell_type": "code",
   "execution_count": null,
   "metadata": {},
   "outputs": [],
   "source": [
    "chart.animate(\n",
    "    Config.line(\n",
    "        {\n",
    "            \"x\": \"Year\",\n",
    "            \"y\": \"Revenue[$]\",\n",
    "            \"dividedBy\": \"Format\"\n",
    "        }\n",
    "    )\n",
    ")"
   ]
  }
 ],
 "metadata": {
  "kernelspec": {
   "display_name": "Python 3 (ipykernel)",
   "language": "python",
   "name": "python3"
  },
  "language_info": {
   "codemirror_mode": {
    "name": "ipython",
    "version": 3
   },
   "file_extension": ".py",
   "mimetype": "text/x-python",
   "name": "python",
   "nbconvert_exporter": "python",
   "pygments_lexer": "ipython3",
   "version": "3.9.12"
  },
  "title": "ipyvizzu - Story"
 },
 "nbformat": 4,
 "nbformat_minor": 2
}
