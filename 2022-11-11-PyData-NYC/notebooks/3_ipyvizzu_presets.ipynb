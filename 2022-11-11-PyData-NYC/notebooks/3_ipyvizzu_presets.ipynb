{
 "cells": [
  {
   "cell_type": "markdown",
   "metadata": {},
   "source": [
    "# ipyvizzu Preset Example\n",
    "Revenue of different music formats in the U.S. between 1973 - 2020"
   ]
  },
  {
   "cell_type": "code",
   "execution_count": null,
   "metadata": {
    "scrolled": true
   },
   "outputs": [],
   "source": [
    "import pandas as pd\n",
    "from ipyvizzu import Chart, Data, Config, Style\n",
    "\n",
    "data_frame = pd.read_csv(\"../data/music.csv\", \n",
    "                         dtype={\"Year\": str}\n",
    "                        )\n",
    "data = Data()\n",
    "data.add_data_frame(data_frame)\n",
    "\n",
    "display(data_frame)"
   ]
  },
  {
   "cell_type": "code",
   "execution_count": null,
   "metadata": {
    "scrolled": false
   },
   "outputs": [],
   "source": [
    "chart = Chart(width=\"100%\", height=\"360px\")\n",
    "\n",
    "chart.animate(data)\n",
    "\n",
    "chart.animate(\n",
    "   Config.bar(\n",
    "        {\n",
    "            \"x\": \"Revenue [m$]\",\n",
    "            \"y\": \"Format\",\n",
    "            \"title\": \"Revenue by Music Format 1973-2020\",\n",
    "        }\n",
    "    ),\n",
    ")"
   ]
  },
  {
   "cell_type": "code",
   "execution_count": null,
   "metadata": {},
   "outputs": [],
   "source": [
    "chart.animate(\n",
    "   Config.groupedBar(\n",
    "        {\n",
    "            \"x\": \"Revenue [m$]\",\n",
    "            \"y\": \"Format\",\n",
    "            \"groupedBy\": \"Format\",\n",
    "        }\n",
    "    ),\n",
    "    Style({\n",
    "        \"plot\": { \"marker\": { \"colorPalette\": \"#b74c20FF #c47f58FF #1c9761FF #ea4549FF #875792FF #3562b6FF #ee7c34FF #efae3aFF\"}},\n",
    "    })\n",
    ")"
   ]
  },
  {
   "cell_type": "code",
   "execution_count": null,
   "metadata": {},
   "outputs": [],
   "source": [
    "chart.animate(\n",
    "    Config(\n",
    "            {\n",
    "                \"x\": [\"Revenue [m$]\",\"Year\"],\n",
    "                \"label\": None,\n",
    "            }\n",
    "        )\n",
    ")"
   ]
  },
  {
   "cell_type": "code",
   "execution_count": null,
   "metadata": {},
   "outputs": [],
   "source": [
    "chart.animate(\n",
    "    Config.splittedColumn(\n",
    "        {\n",
    "            \"x\": \"Year\",\n",
    "            \"y\": \"Revenue [m$]\",\n",
    "            \"splittedBy\": \"Format\",\n",
    "            \"title\": \"Splitted Column Chart\",\n",
    "        }),\n",
    "        Style({ \"plot\": { \"xAxis\": { \"label\": { \"fontSize\": 9, \"angle\": 2.0 }}}})\n",
    "\n",
    ")"
   ]
  },
  {
   "cell_type": "code",
   "execution_count": null,
   "metadata": {},
   "outputs": [],
   "source": [
    "#Set a handler that prevents showing the year values that are not divisible by 5\n",
    "handler = \"\"\"\n",
    "let Year = parseFloat(event.data.text);\n",
    "if (!isNaN(Year) && Year > 1950 && Year < 2020 && Year % 5 !== 0) {\n",
    "    event.preventDefault();\n",
    "}\n",
    "\"\"\"\n",
    "#Add handler to the plot-axis-label-draw event so that it takes effect.\n",
    "chart.on(\"plot-axis-label-draw\", handler)"
   ]
  },
  {
   "cell_type": "code",
   "execution_count": null,
   "metadata": {},
   "outputs": [],
   "source": [
    "chart.animate(\n",
    "    Config.stream(\n",
    "            {\n",
    "                \"x\": \"Year\",\n",
    "                \"y\": \"Revenue [m$]\",\n",
    "                \"stackedBy\": \"Format\",\n",
    "                \"title\": \"Revenue by Music Format 1973-2020\",\n",
    "            }\n",
    "        )\n",
    ")"
   ]
  },
  {
   "cell_type": "code",
   "execution_count": null,
   "metadata": {},
   "outputs": [],
   "source": [
    "chart.animate(\n",
    "    Config(\n",
    "        {\n",
    "            \"split\": True\n",
    "        }\n",
    "    )\n",
    ")"
   ]
  },
  {
   "cell_type": "code",
   "execution_count": null,
   "metadata": {},
   "outputs": [],
   "source": [
    "chart.animate(\n",
    "    Data.filter(\n",
    "        \"record.Format == 'Vinyl' ||record.Format == 'Streaming'\"\n",
    "    ),\n",
    "    Config(\n",
    "        {\n",
    "            \"title\": \"Revenue of Vinyl & Streaming 1973-2020\"\n",
    "        }\n",
    "    )\n",
    ")"
   ]
  },
  {
   "cell_type": "code",
   "execution_count": null,
   "metadata": {},
   "outputs": [],
   "source": [
    "chart.animate(\n",
    "    Data.filter(None),\n",
    "    Config(\n",
    "        {\n",
    "            \"title\": \"Revenue by Music Format 1973-2020\", \n",
    "            \"split\": False\n",
    "        }\n",
    "    )\n",
    ")"
   ]
  },
  {
   "cell_type": "code",
   "execution_count": null,
   "metadata": {},
   "outputs": [],
   "source": [
    "chart.animate(\n",
    "    Config.line(\n",
    "        {\n",
    "            \"x\": \"Year\",\n",
    "            \"y\": \"Revenue [m$]\",\n",
    "            \"dividedBy\": \"Format\"\n",
    "        }\n",
    "    )\n",
    ")"
   ]
  },
  {
   "cell_type": "markdown",
   "metadata": {},
   "source": [
    "### Issues\n",
    "~~- Generic logic can be hard to comprehend~~\n",
    "- One directional use"
   ]
  }
 ],
 "metadata": {
  "kernelspec": {
   "display_name": "Python 3 (ipykernel)",
   "language": "python",
   "name": "python3"
  },
  "language_info": {
   "codemirror_mode": {
    "name": "ipython",
    "version": 3
   },
   "file_extension": ".py",
   "mimetype": "text/x-python",
   "name": "python",
   "nbconvert_exporter": "python",
   "pygments_lexer": "ipython3",
   "version": "3.9.12"
  },
  "title": "ipyvizzu - Story"
 },
 "nbformat": 4,
 "nbformat_minor": 2
}
