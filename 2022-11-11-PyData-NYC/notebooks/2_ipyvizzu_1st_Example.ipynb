{
 "cells": [
  {
   "cell_type": "markdown",
   "metadata": {},
   "source": [
    "# ipyvizzu - 1st Example - Results of a LinkedIn Poll"
   ]
  },
  {
   "cell_type": "code",
   "execution_count": null,
   "metadata": {},
   "outputs": [],
   "source": [
    "#!pip install ipyvizzu"
   ]
  },
  {
   "cell_type": "code",
   "execution_count": 1,
   "metadata": {
    "scrolled": true
   },
   "outputs": [
    {
     "data": {
      "text/html": [
       "<div>\n",
       "<style scoped>\n",
       "    .dataframe tbody tr th:only-of-type {\n",
       "        vertical-align: middle;\n",
       "    }\n",
       "\n",
       "    .dataframe tbody tr th {\n",
       "        vertical-align: top;\n",
       "    }\n",
       "\n",
       "    .dataframe thead th {\n",
       "        text-align: right;\n",
       "    }\n",
       "</style>\n",
       "<table border=\"1\" class=\"dataframe\">\n",
       "  <thead>\n",
       "    <tr style=\"text-align: right;\">\n",
       "      <th></th>\n",
       "      <th>Group name</th>\n",
       "      <th>Group</th>\n",
       "      <th>Answer</th>\n",
       "      <th>Vote[%]</th>\n",
       "      <th>Vote count</th>\n",
       "      <th>GroupVote count</th>\n",
       "      <th>Total[%]</th>\n",
       "    </tr>\n",
       "  </thead>\n",
       "  <tbody>\n",
       "    <tr>\n",
       "      <th>0</th>\n",
       "      <td>Data Analytics, Data Science, Business Analyti...</td>\n",
       "      <td>Group 5</td>\n",
       "      <td>2 or more per month</td>\n",
       "      <td>39</td>\n",
       "      <td>27</td>\n",
       "      <td>70</td>\n",
       "      <td>3.8</td>\n",
       "    </tr>\n",
       "    <tr>\n",
       "      <th>1</th>\n",
       "      <td>Python Developers Community (moderated)</td>\n",
       "      <td>Group 4</td>\n",
       "      <td>2 or more per month</td>\n",
       "      <td>44</td>\n",
       "      <td>191</td>\n",
       "      <td>433</td>\n",
       "      <td>27.0</td>\n",
       "    </tr>\n",
       "    <tr>\n",
       "      <th>2</th>\n",
       "      <td>Data Scientist, Data Analyst and Data Engineer</td>\n",
       "      <td>Group 3</td>\n",
       "      <td>2 or more per month</td>\n",
       "      <td>47</td>\n",
       "      <td>66</td>\n",
       "      <td>141</td>\n",
       "      <td>9.3</td>\n",
       "    </tr>\n",
       "    <tr>\n",
       "      <th>3</th>\n",
       "      <td>Artificial Intelligence, Digital Transformatio...</td>\n",
       "      <td>Group 2</td>\n",
       "      <td>2 or more per month</td>\n",
       "      <td>55</td>\n",
       "      <td>6</td>\n",
       "      <td>11</td>\n",
       "      <td>0.8</td>\n",
       "    </tr>\n",
       "    <tr>\n",
       "      <th>4</th>\n",
       "      <td>AI &amp; ML  - Analytics , Data Science...</td>\n",
       "      <td>Group 1</td>\n",
       "      <td>2 or more per month</td>\n",
       "      <td>56</td>\n",
       "      <td>29</td>\n",
       "      <td>52</td>\n",
       "      <td>4.1</td>\n",
       "    </tr>\n",
       "    <tr>\n",
       "      <th>5</th>\n",
       "      <td>Data Analytics, Data Science, Business Analyti...</td>\n",
       "      <td>Group 5</td>\n",
       "      <td>1 per month</td>\n",
       "      <td>31</td>\n",
       "      <td>22</td>\n",
       "      <td>70</td>\n",
       "      <td>3.1</td>\n",
       "    </tr>\n",
       "  </tbody>\n",
       "</table>\n",
       "</div>"
      ],
      "text/plain": [
       "                                          Group name    Group  \\\n",
       "0  Data Analytics, Data Science, Business Analyti...  Group 5   \n",
       "1            Python Developers Community (moderated)  Group 4   \n",
       "2     Data Scientist, Data Analyst and Data Engineer  Group 3   \n",
       "3  Artificial Intelligence, Digital Transformatio...  Group 2   \n",
       "4             AI & ML  - Analytics , Data Science...  Group 1   \n",
       "5  Data Analytics, Data Science, Business Analyti...  Group 5   \n",
       "\n",
       "                Answer  Vote[%]  Vote count  GroupVote count  Total[%]  \n",
       "0  2 or more per month       39          27               70       3.8  \n",
       "1  2 or more per month       44         191              433      27.0  \n",
       "2  2 or more per month       47          66              141       9.3  \n",
       "3  2 or more per month       55           6               11       0.8  \n",
       "4  2 or more per month       56          29               52       4.1  \n",
       "5          1 per month       31          22               70       3.1  "
      ]
     },
     "execution_count": 1,
     "metadata": {},
     "output_type": "execute_result"
    }
   ],
   "source": [
    "import pandas as pd\n",
    "from ipyvizzu import Chart, Data, Config, Style\n",
    "\n",
    "data_frame = pd.read_csv(\"../data/LinkedIn_Poll.csv\")\n",
    "data = Data()\n",
    "data.add_data_frame(data_frame)\n",
    "\n",
    "data_frame.head(6)"
   ]
  },
  {
   "cell_type": "code",
   "execution_count": null,
   "metadata": {},
   "outputs": [],
   "source": [
    "chart = Chart(width=\"100%\", height=\"360px\")\n",
    "\n",
    "chart.animate(data)\n",
    "\n",
    "chart.animate(\n",
    "    Data.filter(\n",
    "        \"record.Group == 'Group 1'\"\n",
    "    ),\n",
    "   Config({\n",
    "            \"x\": [\"Vote[%]\",\"Answer\"], \n",
    "            \"y\": \"Group\",\n",
    "            \"color\": \"Answer\",\n",
    "            \"label\": \"Vote[%]\",\n",
    "            \"title\": \"How often do you present your findings?\"\n",
    "        }),\n",
    "    Style({\n",
    "        \"legend\" : {\"paddingRight\": \"-1em\"},\n",
    "    })\n",
    ")"
   ]
  },
  {
   "cell_type": "code",
   "execution_count": null,
   "metadata": {},
   "outputs": [],
   "source": [
    "chart.animate(\n",
    "    Data.filter(None),\n",
    ")"
   ]
  },
  {
   "cell_type": "code",
   "execution_count": null,
   "metadata": {},
   "outputs": [],
   "source": [
    "chart.animate(\n",
    "    Config({\n",
    "        \"split\": True, \n",
    "        \"title\": \"2 or more is the most popular answer in every group\"\n",
    "    })\n",
    ")"
   ]
  },
  {
   "cell_type": "code",
   "execution_count": null,
   "metadata": {},
   "outputs": [],
   "source": [
    "chart.animate(\n",
    "    Config({\n",
    "        \"x\": [\"Vote count\",\"Answer\"], \n",
    "        \"label\": \"Vote count\", \n",
    "        \"title\": \"61% of the votes came from one group\"\n",
    "    }),\n",
    ")"
   ]
  },
  {
   "cell_type": "code",
   "execution_count": null,
   "metadata": {},
   "outputs": [],
   "source": [
    "chart.animate(\n",
    "    Config({ \n",
    "        \"x\": \"Answer\", \n",
    "        \"y\": [\"Group\",\"Vote count\"], \n",
    "        \"split\": False, \n",
    "        \"legend\": \"color\"\n",
    "    })\n",
    ")\n",
    "\n",
    "chart.animate(\n",
    "    Config({ \n",
    "        \"y\": \"Vote count\", \n",
    "        \"title\": \"More than 700 people voted\"\n",
    "    })\n",
    ")"
   ]
  },
  {
   "cell_type": "code",
   "execution_count": null,
   "metadata": {},
   "outputs": [],
   "source": [
    "chart.animate(\n",
    "    Config({ \n",
    "        \"x\": [\"Total[%]\",\"Answer\"], \n",
    "        \"y\": None, \n",
    "        \"label\":\"Total[%]\"\n",
    "    })\n",
    ")"
   ]
  },
  {
   "cell_type": "code",
   "execution_count": null,
   "metadata": {},
   "outputs": [],
   "source": [
    "chart.animate(\n",
    "    Config({ \n",
    "        \"coordSystem\": \"polar\", \n",
    "        \"title\":\"More than two-third presents at least once per month\"\n",
    "    })\n",
    ")"
   ]
  },
  {
   "cell_type": "markdown",
   "metadata": {},
   "source": [
    "### Issues\n",
    "- Generic logic can be hard to comprehend\n",
    "- One directional use"
   ]
  }
 ],
 "metadata": {
  "kernelspec": {
   "display_name": "Python 3 (ipykernel)",
   "language": "python",
   "name": "python3"
  },
  "language_info": {
   "codemirror_mode": {
    "name": "ipython",
    "version": 3
   },
   "file_extension": ".py",
   "mimetype": "text/x-python",
   "name": "python",
   "nbconvert_exporter": "python",
   "pygments_lexer": "ipython3",
   "version": "3.9.12"
  },
  "title": "ipyvizzu - Story"
 },
 "nbformat": 4,
 "nbformat_minor": 2
}
