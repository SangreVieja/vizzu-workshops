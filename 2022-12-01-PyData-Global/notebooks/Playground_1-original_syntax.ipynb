{
 "cells": [
  {
   "cell_type": "markdown",
   "id": "bef2f5a2",
   "metadata": {},
   "source": [
    "# ipyvizzu Playground 1 - Simple Syntax\n",
    "\n",
    "#### If you download this notebook, make sure to check out how to use it in your environment: https://ipyvizzu.vizzuhq.com/mkdocs/docs/environments/index.html"
   ]
  },
  {
   "cell_type": "code",
   "execution_count": null,
   "id": "0150ffba",
   "metadata": {},
   "outputs": [],
   "source": [
    "#!pip install ipyvizzu -U"
   ]
  },
  {
   "cell_type": "code",
   "execution_count": null,
   "id": "cc93c15c",
   "metadata": {},
   "outputs": [],
   "source": [
    "import pandas as pd\n",
    "from ipyvizzu import Chart, Data, Config, Style\n",
    "\n",
    "data_frame = pd.read_csv(\"https://raw.githubusercontent.com/vizzuhq/vizzu-workshops/main/2022-12-01-PyData-Global/data/worldpopulation.csv\",\n",
    "                         dtype={\"Year\": str})\n",
    "data = Data()\n",
    "data.add_data_frame(data_frame)\n",
    "\n",
    "display(data_frame)"
   ]
  },
  {
   "cell_type": "code",
   "execution_count": null,
   "id": "1cc64a07",
   "metadata": {},
   "outputs": [],
   "source": [
    "chart = Chart(width=\"100%\", height=\"360px\")\n",
    "chart.feature(\"tooltip\", True)\n",
    "\n",
    "chart.animate(data)\n",
    "\n",
    "chart.animate(\n",
    "   Config({\n",
    "            \"x\": \"Year\",\n",
    "            \"y\": \"Pop_Medium\", #Pop_Low, Pop_High\n",
    "            \"geometry\": \"area\", #circle, line, area\n",
    "            \"title\": \"World Population 1953-2018\",\n",
    "            \"coordSystem\": \"cartesian\", #polar\n",
    "        }),\n",
    "            Style({ \"plot\": { \"xAxis\": { \"label\": { \"angle\": \"-45deg\" }}}})\n",
    ")\n"
   ]
  },
  {
   "cell_type": "code",
   "execution_count": null,
   "id": "be26928f",
   "metadata": {},
   "outputs": [],
   "source": [
    "chart.animate(\n",
    "    Config({\n",
    "            \"y\": [\"Pop_Medium\",\"Continent\"],\n",
    "            \"color\": \"Continent\",\n",
    "            \"title\": \"Population of Continents 1953-2018\",\n",
    "            \"split\": False, # True\n",
    "            \"align\": \"min\", # max, center, stretch\n",
    "        }),\n",
    ")\n"
   ]
  },
  {
   "cell_type": "code",
   "execution_count": null,
   "id": "c2bab3ee",
   "metadata": {},
   "outputs": [],
   "source": [
    "chart.animate(\n",
    "    Data.filter(\n",
    "        \"record.Continent == 'Asia'\" # \"(record.Continent == 'Africa' || record.Continent == 'Asia') && record.Period == 'past' \"\n",
    "    ),\n",
    "   Config({\n",
    "           \"y\": [\"Pop_Medium\",\"Continent\",\"Subregion\"],\n",
    "           \"lightness\": \"Subregion\",\n",
    "            \"legend\": \"lightness\", #color\n",
    "            \"title\": \"Population of Asia 1953-2018\",\n",
    "        }),\n",
    "    Style({\n",
    "      # 'legend' : {'width' : '100%'},\n",
    "    })\n",
    "),"
   ]
  }
 ],
 "metadata": {
  "kernelspec": {
   "display_name": "Python 3 (ipykernel)",
   "language": "python",
   "name": "python3"
  },
  "language_info": {
   "codemirror_mode": {
    "name": "ipython",
    "version": 3
   },
   "file_extension": ".py",
   "mimetype": "text/x-python",
   "name": "python",
   "nbconvert_exporter": "python",
   "pygments_lexer": "ipython3",
   "version": "3.9.12"
  }
 },
 "nbformat": 4,
 "nbformat_minor": 5
}
